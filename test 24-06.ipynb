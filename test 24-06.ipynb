{
 "cells": [
  {
   "cell_type": "code",
   "execution_count": 5,
   "id": "67555c07",
   "metadata": {},
   "outputs": [],
   "source": [
    "# mengimport beberapa library yang dibutuhkan\n",
    "import pandas as pd\n",
    "import numpy as np\n",
    "from sklearn.model_selection import train_test_split\n",
    "from sklearn.feature_extraction.text import TfidfVectorizer\n",
    "from sklearn.metrics import classification_report\n",
    "from sklearn import svm, naive_bayes\n",
    "from sklearn.linear_model import LogisticRegression\n",
    "from nltk.corpus import stopwords\n",
    "import nltk"
   ]
  },
  {
   "cell_type": "code",
   "execution_count": 2,
   "id": "d26471ec",
   "metadata": {},
   "outputs": [
    {
     "data": {
      "text/html": [
       "<div>\n",
       "<style scoped>\n",
       "    .dataframe tbody tr th:only-of-type {\n",
       "        vertical-align: middle;\n",
       "    }\n",
       "\n",
       "    .dataframe tbody tr th {\n",
       "        vertical-align: top;\n",
       "    }\n",
       "\n",
       "    .dataframe thead th {\n",
       "        text-align: right;\n",
       "    }\n",
       "</style>\n",
       "<table border=\"1\" class=\"dataframe\">\n",
       "  <thead>\n",
       "    <tr style=\"text-align: right;\">\n",
       "      <th></th>\n",
       "      <th>label</th>\n",
       "      <th>tweet</th>\n",
       "    </tr>\n",
       "  </thead>\n",
       "  <tbody>\n",
       "    <tr>\n",
       "      <th>0</th>\n",
       "      <td>positive</td>\n",
       "      <td>Beli dear butter only 0 rupiah from #Traveloka...</td>\n",
       "    </tr>\n",
       "    <tr>\n",
       "      <th>1</th>\n",
       "      <td>positive</td>\n",
       "      <td>Super deals by @traveloka and they have a lot ...</td>\n",
       "    </tr>\n",
       "    <tr>\n",
       "      <th>2</th>\n",
       "      <td>negative</td>\n",
       "      <td>rip traveloka eats</td>\n",
       "    </tr>\n",
       "    <tr>\n",
       "      <th>3</th>\n",
       "      <td>negative</td>\n",
       "      <td>harga shopeefood, grabfood, gofood, dan travel...</td>\n",
       "    </tr>\n",
       "    <tr>\n",
       "      <th>4</th>\n",
       "      <td>negative</td>\n",
       "      <td>Traveloka eats diskonnya dikit doang sekarang ...</td>\n",
       "    </tr>\n",
       "    <tr>\n",
       "      <th>...</th>\n",
       "      <td>...</td>\n",
       "      <td>...</td>\n",
       "    </tr>\n",
       "    <tr>\n",
       "      <th>1195</th>\n",
       "      <td>negative</td>\n",
       "      <td>Wah gila, baru kali ini pesen akomodasi di @tr...</td>\n",
       "    </tr>\n",
       "    <tr>\n",
       "      <th>1196</th>\n",
       "      <td>negative</td>\n",
       "      <td>Cukup deh pake apps @traveloka .Ga mau kan uda...</td>\n",
       "    </tr>\n",
       "    <tr>\n",
       "      <th>1197</th>\n",
       "      <td>negative</td>\n",
       "      <td>Nangis bgt itu traveloka grand bazaarnya harga...</td>\n",
       "    </tr>\n",
       "    <tr>\n",
       "      <th>1198</th>\n",
       "      <td>negative</td>\n",
       "      <td>@traveloka makin lama makin parah nih layanan ...</td>\n",
       "    </tr>\n",
       "    <tr>\n",
       "      <th>1199</th>\n",
       "      <td>negative</td>\n",
       "      <td>Udahla @traveloka basi tau... Tim spesialist a...</td>\n",
       "    </tr>\n",
       "  </tbody>\n",
       "</table>\n",
       "<p>1200 rows × 2 columns</p>\n",
       "</div>"
      ],
      "text/plain": [
       "         label                                              tweet\n",
       "0     positive  Beli dear butter only 0 rupiah from #Traveloka...\n",
       "1     positive  Super deals by @traveloka and they have a lot ...\n",
       "2     negative                                 rip traveloka eats\n",
       "3     negative  harga shopeefood, grabfood, gofood, dan travel...\n",
       "4     negative  Traveloka eats diskonnya dikit doang sekarang ...\n",
       "...        ...                                                ...\n",
       "1195  negative  Wah gila, baru kali ini pesen akomodasi di @tr...\n",
       "1196  negative  Cukup deh pake apps @traveloka .Ga mau kan uda...\n",
       "1197  negative  Nangis bgt itu traveloka grand bazaarnya harga...\n",
       "1198  negative  @traveloka makin lama makin parah nih layanan ...\n",
       "1199  negative  Udahla @traveloka basi tau... Tim spesialist a...\n",
       "\n",
       "[1200 rows x 2 columns]"
      ]
     },
     "execution_count": 2,
     "metadata": {},
     "output_type": "execute_result"
    }
   ],
   "source": [
    "# memuat dan mempersiapkan data\n",
    "data = pd.read_csv('data_traveloka_fix.csv', sep='|')\n",
    "# data"
   ]
  },
  {
   "cell_type": "code",
   "execution_count": 3,
   "id": "a5dee4c6",
   "metadata": {},
   "outputs": [],
   "source": [
    "# membagi dataset menjadi dua bagian: data latih (train) dan data uji (test)\n",
    "train_data, test_data = train_test_split(data, test_size=0.2, random_state=42)"
   ]
  },
  {
   "cell_type": "code",
   "execution_count": 8,
   "id": "2ad52c1c",
   "metadata": {},
   "outputs": [
    {
     "name": "stderr",
     "output_type": "stream",
     "text": [
      "[nltk_data] Downloading package stopwords to C:\\Users\\M Arifin\n",
      "[nltk_data]     Ilham\\AppData\\Roaming\\nltk_data...\n",
      "[nltk_data]   Package stopwords is already up-to-date!\n",
      "C:\\Users\\M Arifin Ilham\\AppData\\Local\\Programs\\Python\\Python311\\Lib\\site-packages\\sklearn\\feature_extraction\\text.py:409: UserWarning: Your stop_words may be inconsistent with your preprocessing. Tokenizing the stop words generated tokens ['baiknya', 'berkali', 'kali', 'kurangnya', 'mata', 'olah', 'sekurang', 'setidak', 'tama', 'tidaknya'] not in stop_words.\n",
      "  warnings.warn(\n"
     ]
    }
   ],
   "source": [
    "# mendownload stopwords bahasa indonesia\n",
    "nltk.download('stopwords')\n",
    "# Pra-pemrosesan Teks\n",
    "stop_words = set(stopwords.words('indonesian'))\n",
    "\n",
    "tfidf = TfidfVectorizer(sublinear_tf=True, encoding='utf-8', decode_error='ignore', stop_words=list(stop_words))\n",
    "train_features = tfidf.fit_transform(train_data['tweet'])\n",
    "test_features = tfidf.transform(test_data['tweet'])"
   ]
  },
  {
   "cell_type": "code",
   "execution_count": null,
   "id": "6eedccf9",
   "metadata": {},
   "outputs": [],
   "source": []
  }
 ],
 "metadata": {
  "kernelspec": {
   "display_name": "Python 3 (ipykernel)",
   "language": "python",
   "name": "python3"
  },
  "language_info": {
   "codemirror_mode": {
    "name": "ipython",
    "version": 3
   },
   "file_extension": ".py",
   "mimetype": "text/x-python",
   "name": "python",
   "nbconvert_exporter": "python",
   "pygments_lexer": "ipython3",
   "version": "3.11.1"
  }
 },
 "nbformat": 4,
 "nbformat_minor": 5
}
